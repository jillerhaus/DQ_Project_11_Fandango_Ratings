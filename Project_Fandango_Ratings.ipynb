{
 "cells": [
  {
   "cell_type": "markdown",
   "metadata": {},
   "source": [
    "# Fandango Rating Analysis Project\n",
    "\n",
    "The goal of this project is to analyze inconsistencies in the movie ratings of the [Fandango website](https://www.fandango.com/).\n",
    "\n",
    "These were first brought to the public's attention in October of 2015 by Walt Hickney in [this](https://fivethirtyeight.com/features/fandango-movies-ratings/) article.\n",
    "\n",
    "When compared to the actual scores that can be found in the HTML code of the site, the ratings have in the past been skewed towards higher ratings. For example a rating of 4.1 will be rounded to 4.5 instead of 4.0. Fandango claimed that this was unintentional and caused by a bug. To find out if the inconsistencies have been fixed, movie ratings in the year after they were discovered will be analyzed.\n",
    "These errors are interesting since Fandango would benefit from higher ratings because they sell tickets to these movies directly on their website and higher rated movies sell more tickets.\n",
    "\n",
    "The main focus of this project in on statistical analysis."
   ]
  },
  {
   "cell_type": "markdown",
   "metadata": {},
   "source": [
    "# Setup"
   ]
  },
  {
   "cell_type": "code",
   "execution_count": 1,
   "metadata": {},
   "outputs": [],
   "source": [
    "# Imports\n",
    "import numpy as np\n",
    "import pandas as pd\n",
    "import matplotlib.pyplot as plt\n",
    "%matplotlib inline\n",
    "import seaborn as sns\n",
    "import re"
   ]
  },
  {
   "cell_type": "code",
   "execution_count": 2,
   "metadata": {},
   "outputs": [],
   "source": [
    "# Read in the Datasets\n",
    "ratings_old = pd.read_csv('fandango_score_comparison.csv')\n",
    "ratings_new = pd.read_csv('movie_ratings_16_17.csv')"
   ]
  },
  {
   "cell_type": "code",
   "execution_count": 3,
   "metadata": {},
   "outputs": [],
   "source": [
    "fandango_old = ratings_old[['FILM', 'Fandango_Stars', 'Fandango_Ratingvalue',\n",
    "                          'Fandango_votes', 'Fandango_Difference']]\n",
    "fandango_new = ratings_new[['movie','year', 'fandango']]\n",
    "    "
   ]
  },
  {
   "cell_type": "markdown",
   "metadata": {},
   "source": [
    "# Data Analysis"
   ]
  },
  {
   "cell_type": "code",
   "execution_count": 4,
   "metadata": {},
   "outputs": [
    {
     "data": {
      "text/html": [
       "<div>\n",
       "<style scoped>\n",
       "    .dataframe tbody tr th:only-of-type {\n",
       "        vertical-align: middle;\n",
       "    }\n",
       "\n",
       "    .dataframe tbody tr th {\n",
       "        vertical-align: top;\n",
       "    }\n",
       "\n",
       "    .dataframe thead th {\n",
       "        text-align: right;\n",
       "    }\n",
       "</style>\n",
       "<table border=\"1\" class=\"dataframe\">\n",
       "  <thead>\n",
       "    <tr style=\"text-align: right;\">\n",
       "      <th></th>\n",
       "      <th>FILM</th>\n",
       "      <th>Fandango_Stars</th>\n",
       "      <th>Fandango_Ratingvalue</th>\n",
       "      <th>Fandango_votes</th>\n",
       "      <th>Fandango_Difference</th>\n",
       "    </tr>\n",
       "  </thead>\n",
       "  <tbody>\n",
       "    <tr>\n",
       "      <th>0</th>\n",
       "      <td>Avengers: Age of Ultron (2015)</td>\n",
       "      <td>5.0</td>\n",
       "      <td>4.5</td>\n",
       "      <td>14846</td>\n",
       "      <td>0.5</td>\n",
       "    </tr>\n",
       "    <tr>\n",
       "      <th>1</th>\n",
       "      <td>Cinderella (2015)</td>\n",
       "      <td>5.0</td>\n",
       "      <td>4.5</td>\n",
       "      <td>12640</td>\n",
       "      <td>0.5</td>\n",
       "    </tr>\n",
       "    <tr>\n",
       "      <th>2</th>\n",
       "      <td>Ant-Man (2015)</td>\n",
       "      <td>5.0</td>\n",
       "      <td>4.5</td>\n",
       "      <td>12055</td>\n",
       "      <td>0.5</td>\n",
       "    </tr>\n",
       "    <tr>\n",
       "      <th>3</th>\n",
       "      <td>Do You Believe? (2015)</td>\n",
       "      <td>5.0</td>\n",
       "      <td>4.5</td>\n",
       "      <td>1793</td>\n",
       "      <td>0.5</td>\n",
       "    </tr>\n",
       "    <tr>\n",
       "      <th>4</th>\n",
       "      <td>Hot Tub Time Machine 2 (2015)</td>\n",
       "      <td>3.5</td>\n",
       "      <td>3.0</td>\n",
       "      <td>1021</td>\n",
       "      <td>0.5</td>\n",
       "    </tr>\n",
       "  </tbody>\n",
       "</table>\n",
       "</div>"
      ],
      "text/plain": [
       "                             FILM  Fandango_Stars  Fandango_Ratingvalue  \\\n",
       "0  Avengers: Age of Ultron (2015)             5.0                   4.5   \n",
       "1               Cinderella (2015)             5.0                   4.5   \n",
       "2                  Ant-Man (2015)             5.0                   4.5   \n",
       "3          Do You Believe? (2015)             5.0                   4.5   \n",
       "4   Hot Tub Time Machine 2 (2015)             3.5                   3.0   \n",
       "\n",
       "   Fandango_votes  Fandango_Difference  \n",
       "0           14846                  0.5  \n",
       "1           12640                  0.5  \n",
       "2           12055                  0.5  \n",
       "3            1793                  0.5  \n",
       "4            1021                  0.5  "
      ]
     },
     "execution_count": 4,
     "metadata": {},
     "output_type": "execute_result"
    }
   ],
   "source": [
    "fandango_old.head()"
   ]
  },
  {
   "cell_type": "code",
   "execution_count": 5,
   "metadata": {},
   "outputs": [
    {
     "data": {
      "text/html": [
       "<div>\n",
       "<style scoped>\n",
       "    .dataframe tbody tr th:only-of-type {\n",
       "        vertical-align: middle;\n",
       "    }\n",
       "\n",
       "    .dataframe tbody tr th {\n",
       "        vertical-align: top;\n",
       "    }\n",
       "\n",
       "    .dataframe thead th {\n",
       "        text-align: right;\n",
       "    }\n",
       "</style>\n",
       "<table border=\"1\" class=\"dataframe\">\n",
       "  <thead>\n",
       "    <tr style=\"text-align: right;\">\n",
       "      <th></th>\n",
       "      <th>movie</th>\n",
       "      <th>year</th>\n",
       "      <th>fandango</th>\n",
       "    </tr>\n",
       "  </thead>\n",
       "  <tbody>\n",
       "    <tr>\n",
       "      <th>0</th>\n",
       "      <td>10 Cloverfield Lane</td>\n",
       "      <td>2016</td>\n",
       "      <td>3.5</td>\n",
       "    </tr>\n",
       "    <tr>\n",
       "      <th>1</th>\n",
       "      <td>13 Hours</td>\n",
       "      <td>2016</td>\n",
       "      <td>4.5</td>\n",
       "    </tr>\n",
       "    <tr>\n",
       "      <th>2</th>\n",
       "      <td>A Cure for Wellness</td>\n",
       "      <td>2016</td>\n",
       "      <td>3.0</td>\n",
       "    </tr>\n",
       "    <tr>\n",
       "      <th>3</th>\n",
       "      <td>A Dog's Purpose</td>\n",
       "      <td>2017</td>\n",
       "      <td>4.5</td>\n",
       "    </tr>\n",
       "    <tr>\n",
       "      <th>4</th>\n",
       "      <td>A Hologram for the King</td>\n",
       "      <td>2016</td>\n",
       "      <td>3.0</td>\n",
       "    </tr>\n",
       "  </tbody>\n",
       "</table>\n",
       "</div>"
      ],
      "text/plain": [
       "                     movie  year  fandango\n",
       "0      10 Cloverfield Lane  2016       3.5\n",
       "1                 13 Hours  2016       4.5\n",
       "2      A Cure for Wellness  2016       3.0\n",
       "3          A Dog's Purpose  2017       4.5\n",
       "4  A Hologram for the King  2016       3.0"
      ]
     },
     "execution_count": 5,
     "metadata": {},
     "output_type": "execute_result"
    }
   ],
   "source": [
    "fandango_new.head()"
   ]
  },
  {
   "cell_type": "markdown",
   "metadata": {},
   "source": [
    "## Datasets\n",
    "\n",
    "The two datasets that will be used in this analysis are `fandango_old` and `fandango_new`.\n",
    "\n",
    "* `fandango_old` is a dataset containing the data used by Walt Hickney to gather evidence for his article. It contains data on movies in 2015.\n",
    "* `fandango_new` is a second dataset containing newer data from movies and their ratings in the year 2016"
   ]
  },
  {
   "cell_type": "markdown",
   "metadata": {},
   "source": [
    "## Goal\n",
    "\n",
    "The goal of the project is to find out if there is a significant difference between the Fandango rating system before and after the article in October of 2015."
   ]
  },
  {
   "cell_type": "markdown",
   "metadata": {},
   "source": [
    "## Population\n",
    "\n",
    "In statistics, the set of all individuals relevant to the statistical question to be answered. In this case it is the total of all movies with ratings on the Fandango website."
   ]
  },
  {
   "cell_type": "markdown",
   "metadata": {},
   "source": [
    "## Sampling\n",
    "\n",
    "To answer the question posed in the goal of this analysis, two samples have to be taken:\n",
    "1. One sample prior to Hickey's article\n",
    "2. One sample after the article\n",
    "\n",
    "These are available in form of the two different datasets:\n",
    "\n",
    "\n",
    "* `fandango_old`: a sample taken by Hickey, who originally investigated inconsistencies with the Fandango rating system. He excluded movies:\n",
    "    * That had less than 30 user ratings on Fandango by the time of the sampling (24.08.2015)\n",
    "    * That did not have ticket sales in 2015\n",
    "    --> By doing this he excluded a lot of movies, especially less popular ones.\n",
    "    \n",
    "* a later sample. This sample excluded movies:\n",
    "    * released before 2016\n",
    "    * without a lot of reviews (exact number unclear)\n",
    "\n",
    "This means:\n",
    "Our two samples are:\n",
    "* Not representative of the whole population. This is due to the fact that each author chose to eliminate a considerable amount of movie ratings. This will skew our results.\n",
    "* Not comparable to each other. Since the people responsible for the two samplings used different criteria to exclude data, the two datasets will likely have differing results.\n",
    "* Not randomized"
   ]
  },
  {
   "cell_type": "markdown",
   "metadata": {},
   "source": [
    "## New goals:\n",
    "\n",
    "Since the sampled data is neither representative nor are the two datasets comparable, we will need to re-evaluate our initial goal setting.\n",
    "As a large part of the less popular movies have been excluded, out new population will be comprised only on popular movies. In fact we will be working with two populations:\n",
    "* popular movies in the first 8 months of 2015\n",
    "* popular movies in 2016 or later\n",
    "\n",
    "To be able to compare the two results, we have to try to exclude all movies that would have been excluded in the sampling with the stricter sampling rules.\n",
    "\n",
    "The goal will still be to find out if there has been a shift in the Fandango movie review aggregation process before and after the investigation, but due to these constraints we will be limiting ourselves to the more popular movies"
   ]
  },
  {
   "cell_type": "markdown",
   "metadata": {},
   "source": [
    "## Overview over the data contained in our datasets\n",
    "\n",
    "Finding out which type of movies were selected:"
   ]
  },
  {
   "cell_type": "code",
   "execution_count": 6,
   "metadata": {},
   "outputs": [
    {
     "name": "stdout",
     "output_type": "stream",
     "text": [
      "count      146.000000\n",
      "mean      3848.787671\n",
      "std       6357.778617\n",
      "min         35.000000\n",
      "25%        222.250000\n",
      "50%       1446.000000\n",
      "75%       4439.500000\n",
      "max      34846.000000\n",
      "Name: Fandango_votes, dtype: float64\n"
     ]
    },
    {
     "data": {
      "image/png": "[encoded data removed]",
      "text/plain": [
       "<Figure size 432x288 with 1 Axes>"
      ]
     },
     "metadata": {
      "needs_background": "light"
     },
     "output_type": "display_data"
    },
    {
     "data": {
      "image/png": "[encoded data removed]",
      "text/plain": [
       "<Figure size 432x288 with 1 Axes>"
      ]
     },
     "metadata": {
      "needs_background": "light"
     },
     "output_type": "display_data"
    },
    {
     "data": {
      "image/png": "[encoded data removed]",
      "text/plain": [
       "<Figure size 432x288 with 1 Axes>"
      ]
     },
     "metadata": {
      "needs_background": "light"
     },
     "output_type": "display_data"
    }
   ],
   "source": [
    "print(fandango_old.Fandango_votes.describe())\n",
    "fandango_old.Fandango_votes.plot.hist()\n",
    "plt.show()\n",
    "fandango_old.Fandango_votes[fandango_old.Fandango_votes < 3000].plot.hist()\n",
    "plt.show()\n",
    "fandango_old.Fandango_votes[fandango_old.Fandango_votes < 100].plot.hist()\n",
    "plt.show()\n",
    "\n"
   ]
  },
  {
   "cell_type": "markdown",
   "metadata": {},
   "source": [
    "This means the lowest amount of ratings in the dataset containing movies from 2015 is 35. The table shows that half of our movies are rated less than 1500 times."
   ]
  },
  {
   "cell_type": "markdown",
   "metadata": {},
   "source": [
    "### New dataset\n",
    "\n",
    "In our second dataset the movie ratings are selected by including only popular movies. The new dataset unfortunately has no equivalent to the fandango_ratings column, so we have no clear sense of what the author judged to be 'popular'. We could find a number of movies and check them manually"
   ]
  },
  {
   "cell_type": "code",
   "execution_count": 7,
   "metadata": {},
   "outputs": [
    {
     "data": {
      "text/html": [
       "<div>\n",
       "<style scoped>\n",
       "    .dataframe tbody tr th:only-of-type {\n",
       "        vertical-align: middle;\n",
       "    }\n",
       "\n",
       "    .dataframe tbody tr th {\n",
       "        vertical-align: top;\n",
       "    }\n",
       "\n",
       "    .dataframe thead th {\n",
       "        text-align: right;\n",
       "    }\n",
       "</style>\n",
       "<table border=\"1\" class=\"dataframe\">\n",
       "  <thead>\n",
       "    <tr style=\"text-align: right;\">\n",
       "      <th></th>\n",
       "      <th>movie</th>\n",
       "      <th>year</th>\n",
       "      <th>fandango</th>\n",
       "    </tr>\n",
       "  </thead>\n",
       "  <tbody>\n",
       "    <tr>\n",
       "      <th>108</th>\n",
       "      <td>Mechanic: Resurrection</td>\n",
       "      <td>2016</td>\n",
       "      <td>4.0</td>\n",
       "    </tr>\n",
       "    <tr>\n",
       "      <th>206</th>\n",
       "      <td>Warcraft</td>\n",
       "      <td>2016</td>\n",
       "      <td>4.0</td>\n",
       "    </tr>\n",
       "    <tr>\n",
       "      <th>106</th>\n",
       "      <td>Max Steel</td>\n",
       "      <td>2016</td>\n",
       "      <td>3.5</td>\n",
       "    </tr>\n",
       "    <tr>\n",
       "      <th>107</th>\n",
       "      <td>Me Before You</td>\n",
       "      <td>2016</td>\n",
       "      <td>4.5</td>\n",
       "    </tr>\n",
       "    <tr>\n",
       "      <th>51</th>\n",
       "      <td>Fantastic Beasts and Where to Find Them</td>\n",
       "      <td>2016</td>\n",
       "      <td>4.5</td>\n",
       "    </tr>\n",
       "    <tr>\n",
       "      <th>33</th>\n",
       "      <td>Cell</td>\n",
       "      <td>2016</td>\n",
       "      <td>3.0</td>\n",
       "    </tr>\n",
       "    <tr>\n",
       "      <th>59</th>\n",
       "      <td>Genius</td>\n",
       "      <td>2016</td>\n",
       "      <td>3.5</td>\n",
       "    </tr>\n",
       "    <tr>\n",
       "      <th>152</th>\n",
       "      <td>Sully</td>\n",
       "      <td>2016</td>\n",
       "      <td>4.5</td>\n",
       "    </tr>\n",
       "    <tr>\n",
       "      <th>4</th>\n",
       "      <td>A Hologram for the King</td>\n",
       "      <td>2016</td>\n",
       "      <td>3.0</td>\n",
       "    </tr>\n",
       "    <tr>\n",
       "      <th>31</th>\n",
       "      <td>Captain America: Civil War</td>\n",
       "      <td>2016</td>\n",
       "      <td>4.5</td>\n",
       "    </tr>\n",
       "  </tbody>\n",
       "</table>\n",
       "</div>"
      ],
      "text/plain": [
       "                                       movie  year  fandango\n",
       "108                   Mechanic: Resurrection  2016       4.0\n",
       "206                                 Warcraft  2016       4.0\n",
       "106                                Max Steel  2016       3.5\n",
       "107                            Me Before You  2016       4.5\n",
       "51   Fantastic Beasts and Where to Find Them  2016       4.5\n",
       "33                                      Cell  2016       3.0\n",
       "59                                    Genius  2016       3.5\n",
       "152                                    Sully  2016       4.5\n",
       "4                    A Hologram for the King  2016       3.0\n",
       "31                Captain America: Civil War  2016       4.5"
      ]
     },
     "execution_count": 7,
     "metadata": {},
     "output_type": "execute_result"
    }
   ],
   "source": [
    "fandango_new.sample(10, random_state = 1)"
   ]
  },
  {
   "cell_type": "markdown",
   "metadata": {},
   "source": [
    "When checking the amount of ratings in the current day (October 2019) there was a tool tip on the site saying that the 5 star rating of Fandango was replaced by ratings taken from [Rotten Tomatoes](https://www.rottentomatoes.com/). This could imply that the company wasn't able to move past the controversy caused by their ratings system. It also doesn't allow generating current data by looking up current rating numbers of movies. But the movies in this project are at this point (2019) already 3 years old, so the current rating numbers would not be the most useful gauge of popularity. For this reason, the rating numbers provided by DataQuest will be used:\n",
    "\n",
    "|Movie                                  |   # User Ratings|\n",
    "|:-------------------------------------:|----------------:|\n",
    "|Mechanic: Resurrection                 |             2247|\n",
    "|Warcraft                               |             7271|\n",
    "|Max Steel                              |              493|\n",
    "|Me Before You                          |             5263|\n",
    "|Fantastic Beasts and Where to Find Them|            13400|\n",
    "|Cell                                   |               17|\n",
    "|Genius                                 |              127|\n",
    "|Sully                                  |            11877|\n",
    "|A Hologram for the King                |              500|\n",
    "|Captain America: Civil War             |            35057|\n",
    "\n",
    "\n",
    "\n",
    "The majority of movies in this sampling are very popular. One outlier is present, however: Cell with only 17 ratings. This means that the inclusion criterion for the second dataset isn't how many user ratings a movie received."
   ]
  },
  {
   "cell_type": "markdown",
   "metadata": {},
   "source": [
    "## Exclude movies not released in 2015 or 2016\n",
    "\n",
    "Included in the datasets are movies not released in 2015 or 2016. These need to be excluded."
   ]
  },
  {
   "cell_type": "code",
   "execution_count": 8,
   "metadata": {},
   "outputs": [
    {
     "name": "stdout",
     "output_type": "stream",
     "text": [
      "(129, 5)\n"
     ]
    }
   ],
   "source": [
    "# Finding the movies released in 2015 in the old Fandango dataset\n",
    "\n",
    "fandango_2015 = fandango_old.loc[fandango_old.FILM.str.contains('\\(2015\\)')]\n",
    "print(fandango_2015.shape)"
   ]
  },
  {
   "cell_type": "code",
   "execution_count": 9,
   "metadata": {},
   "outputs": [],
   "source": [
    "fandango_2016 = fandango_new[fandango_new.year == 2016]"
   ]
  },
  {
   "cell_type": "markdown",
   "metadata": {},
   "source": [
    "## Comparing kernel density estimations of ratings in 2015 and 2016\n",
    "\n",
    "Kernel density estimation plots are similar to smoothed histograms, they give a good understanding over the frequency with which different values or ranges of values appear in a dataset in a less cluttered visual representation."
   ]
  },
  {
   "cell_type": "code",
   "execution_count": 10,
   "metadata": {},
   "outputs": [
    {
     "data": {
      "text/html": [
       "<div>\n",
       "<style scoped>\n",
       "    .dataframe tbody tr th:only-of-type {\n",
       "        vertical-align: middle;\n",
       "    }\n",
       "\n",
       "    .dataframe tbody tr th {\n",
       "        vertical-align: top;\n",
       "    }\n",
       "\n",
       "    .dataframe thead th {\n",
       "        text-align: right;\n",
       "    }\n",
       "</style>\n",
       "<table border=\"1\" class=\"dataframe\">\n",
       "  <thead>\n",
       "    <tr style=\"text-align: right;\">\n",
       "      <th></th>\n",
       "      <th>movie</th>\n",
       "      <th>year</th>\n",
       "      <th>fandango</th>\n",
       "    </tr>\n",
       "  </thead>\n",
       "  <tbody>\n",
       "    <tr>\n",
       "      <th>0</th>\n",
       "      <td>10 Cloverfield Lane</td>\n",
       "      <td>2016</td>\n",
       "      <td>3.5</td>\n",
       "    </tr>\n",
       "    <tr>\n",
       "      <th>1</th>\n",
       "      <td>13 Hours</td>\n",
       "      <td>2016</td>\n",
       "      <td>4.5</td>\n",
       "    </tr>\n",
       "    <tr>\n",
       "      <th>2</th>\n",
       "      <td>A Cure for Wellness</td>\n",
       "      <td>2016</td>\n",
       "      <td>3.0</td>\n",
       "    </tr>\n",
       "    <tr>\n",
       "      <th>4</th>\n",
       "      <td>A Hologram for the King</td>\n",
       "      <td>2016</td>\n",
       "      <td>3.0</td>\n",
       "    </tr>\n",
       "    <tr>\n",
       "      <th>5</th>\n",
       "      <td>A Monster Calls</td>\n",
       "      <td>2016</td>\n",
       "      <td>4.0</td>\n",
       "    </tr>\n",
       "  </tbody>\n",
       "</table>\n",
       "</div>"
      ],
      "text/plain": [
       "                     movie  year  fandango\n",
       "0      10 Cloverfield Lane  2016       3.5\n",
       "1                 13 Hours  2016       4.5\n",
       "2      A Cure for Wellness  2016       3.0\n",
       "4  A Hologram for the King  2016       3.0\n",
       "5          A Monster Calls  2016       4.0"
      ]
     },
     "execution_count": 10,
     "metadata": {},
     "output_type": "execute_result"
    }
   ],
   "source": [
    "fandango_2016.head()"
   ]
  },
  {
   "cell_type": "code",
   "execution_count": 11,
   "metadata": {},
   "outputs": [
    {
     "data": {
      "image/png": "[encoded data removed]",
      "text/plain": [
       "<Figure size 432x288 with 1 Axes>"
      ]
     },
     "metadata": {
      "needs_background": "light"
     },
     "output_type": "display_data"
    }
   ],
   "source": [
    "fandango_2015.Fandango_Stars.plot.kde(label = '2015')\n",
    "fandango_2016.fandango.plot.kde(label = '2016')\n",
    "plt.xlim(0,5)\n",
    "plt.title('Comparison of Fandango Ratings in 2015 vs. 2016', fontsize = 16)\n",
    "plt.legend(loc = 2)\n",
    "plt.xlabel('Rating in Stars')\n",
    "plt.ylabel('Relative Frequency Distribution')\n",
    "plt.xticks(0.5*np.arange(11))\n",
    "plt.style.use('fivethirtyeight')\n",
    "plt.show()"
   ]
  },
  {
   "cell_type": "markdown",
   "metadata": {},
   "source": [
    "## Analysis of the kernel density distributions\n",
    "\n",
    "In general the most common rating has shifted from 4.5 to 4. So it seems Fandango has reacted to the allegation of shifting the ratings or they have taken care of their bug. The lower ratings all have a higher frequency in the 2016 dataset than in the 2015. The only exception is the three star rating which has remained the same.\n",
    "In general both frequency distributions are shifted to the right, but this is at least somewhat typical, as people tend to give even bad movies a three star rating in a lot of cases. But of course shifting ratings is in favor of Fandago, because they sell tickets. It would be interesting to compare Fandangos left-shift to that of other websites, that don't sell tickets."
   ]
  },
  {
   "cell_type": "code",
   "execution_count": 12,
   "metadata": {},
   "outputs": [
    {
     "name": "stdout",
     "output_type": "stream",
     "text": [
      "Rating Distribution 2015: \n",
      "\n",
      "3.0     8.527132\n",
      "3.5    17.829457\n",
      "4.0    28.682171\n",
      "4.5    37.984496\n",
      "5.0     6.976744\n",
      "Name: Fandango_Stars, dtype: float64\n",
      "\n",
      "\n",
      "Rating Distribution 2016:\n",
      "\n",
      "2.5     3.141361\n",
      "3.0     7.329843\n",
      "3.5    24.083770\n",
      "4.0    40.314136\n",
      "4.5    24.607330\n",
      "5.0     0.523560\n",
      "Name: fandango, dtype: float64\n"
     ]
    }
   ],
   "source": [
    "# Comparing the relative frequency tables (the datasets have different numbers of ratings)\n",
    "print('Rating Distribution 2015: \\n')\n",
    "print(fandango_2015.Fandango_Stars.value_counts(normalize = True).sort_index()*100)\n",
    "print('\\n\\n'+'Rating Distribution 2016:\\n')\n",
    "print(fandango_2016.fandango.value_counts(normalize = True).sort_index()*100)"
   ]
  },
  {
   "cell_type": "markdown",
   "metadata": {},
   "source": [
    "## Analysis frequency Tables\n",
    "\n",
    "Several things stick out when we compare the two frequency distributions:\n",
    "\n",
    "* The frequency distribution in 2016 has 2.5 star ratings. In 2015 the lowest rating was a 3 star rating.\n",
    "* In general a trend towards lower ratings is apparent, but it is not as clear as it was in the kernel density estimations.\n",
    " *The very high ratings are much less common in 2016, however."
   ]
  },
  {
   "cell_type": "markdown",
   "metadata": {},
   "source": [
    "### Comparing different statistics from the two years of movie ratings"
   ]
  },
  {
   "cell_type": "code",
   "execution_count": 13,
   "metadata": {},
   "outputs": [
    {
     "name": "stdout",
     "output_type": "stream",
     "text": [
      "Mean of Ratings\n",
      "\n",
      " 2015:\n",
      "4.0852713178294575\n",
      "\n",
      "2016:\n",
      "3.887434554973822\n",
      "\n",
      "\n",
      "Median of Ratings\n",
      "\n",
      " 2015:\n",
      "4.0\n",
      "\n",
      "2016:\n",
      "4.0\n",
      "\n",
      "\n",
      "Mode of Ratings\n",
      "\n",
      " 2015:\n",
      "4.5\n",
      "\n",
      "2016:\n",
      "4.0\n"
     ]
    }
   ],
   "source": [
    "print('Mean of Ratings'+ '\\n\\n 2015:')\n",
    "print(fandango_2015.Fandango_Stars.mean())\n",
    "print('\\n'+'2016:')\n",
    "print(fandango_2016.fandango.mean())\n",
    "\n",
    "print('\\n\\n''Median of Ratings'+ '\\n\\n 2015:')\n",
    "print(fandango_2015.Fandango_Stars.median())\n",
    "print('\\n'+'2016:')\n",
    "print(fandango_2016.fandango.median())\n",
    "\n",
    "print('\\n\\n''Mode of Ratings'+ '\\n\\n 2015:')\n",
    "print(fandango_2015.Fandango_Stars.mode()[0])\n",
    "print('\\n'+'2016:')\n",
    "print(fandango_2016.fandango.mode()[0])\n",
    "\n"
   ]
  },
  {
   "cell_type": "markdown",
   "metadata": {},
   "source": [
    "We can see that the mean and mode have decreased, while the median has remained the same."
   ]
  },
  {
   "cell_type": "code",
   "execution_count": 14,
   "metadata": {},
   "outputs": [],
   "source": [
    "mean_2015 = fandango_2015.Fandango_Stars.mean()\n",
    "median_2015 = fandango_2015.Fandango_Stars.median()\n",
    "mode_2015 = fandango_2015.Fandango_Stars.mode()[0]\n",
    "\n",
    "mean_2016 = fandango_2016.fandango.mean()\n",
    "median_2016 = fandango_2016.fandango.median()\n",
    "mode_2016 = fandango_2016.fandango.mode()[0]\n",
    "\n",
    "statistics_df = pd.DataFrame()\n",
    "statistics_df[2015] = [mean_2015, median_2015, mode_2015]\n",
    "statistics_df[2016] = [mean_2016, median_2016, mode_2016]\n",
    "\n"
   ]
  },
  {
   "cell_type": "code",
   "execution_count": 15,
   "metadata": {},
   "outputs": [
    {
     "data": {
      "image/png": "[encoded data removed]",
      "text/plain": [
       "<Figure size 432x288 with 1 Axes>"
      ]
     },
     "metadata": {},
     "output_type": "display_data"
    }
   ],
   "source": [
    "statistics_df[2015].plot.bar(color = 'b', align = 'center', label = '2015')\n",
    "statistics_df[2016].plot.bar(color = 'r', align = 'edge', label = '2016')\n",
    "plt.legend(loc = 'upper center', fontsize = 14)\n",
    "plt.ylim(0,5)\n",
    "plt.xticks([0,1,2], ['mean', 'median', 'mode'], rotation = 0, fontsize = 14)\n",
    "plt.yticks([0,0.5,1.0,1.5,2.0,2.5,3.0,3.5,4.0,4.5,5.0], fontsize = 14)\n",
    "plt.title('Comparing Summary Statistics: 2015 vs 2016')\n",
    "plt.style.use('fivethirtyeight')\n",
    "plt.show()"
   ]
  },
  {
   "cell_type": "markdown",
   "metadata": {},
   "source": [
    "# Conclusions\n",
    "\n",
    "In this analysis we have seen, that after attention was drawn to inconsistencies in movie ratings on Fandango, the ratings were on average reduced. This could be due to a fix in the system or due to Fandango trying to regain its credibility as a ratings platform. If it was the latter, this has ultimately failed, because as of the making of this analysis Fandango has replaced its own rating system with that of Rotten Tomatoes."
   ]
  }
 ],
 "metadata": {
  "kernelspec": {
   "display_name": "Python 3",
   "language": "python",
   "name": "python3"
  },
  "language_info": {
   "codemirror_mode": {
    "name": "ipython",
    "version": 3
   },
   "file_extension": ".py",
   "mimetype": "text/x-python",
   "name": "python",
   "nbconvert_exporter": "python",
   "pygments_lexer": "ipython3",
   "version": "3.7.6"
  }
 },
 "nbformat": 4,
 "nbformat_minor": 2
}
