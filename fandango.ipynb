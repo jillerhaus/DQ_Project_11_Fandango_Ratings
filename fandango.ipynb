{
 "cells": [
  {
   "cell_type": "markdown",
   "metadata": {},
   "source": [
    "# Fandango Rating Analysis Project\n",
    "\n",
    "The goal of this project is to analyze inconsistencies in the movie ratings of the fandango website. When compared to the actual scores that can be found in the HTML code of the site, the ratings have in the past been skewed towards higher ratings. For example a rating of 4.1 will be rounded to 4.5 instead of 4.0. Fandango claimed that this was unintentional and caused by a bug. Since the bug should be fixed at this point, we will try to find out if the inconsistencies are still present."
   ]
  },
  {
   "cell_type": "code",
   "execution_count": 1,
   "metadata": {
    "collapsed": true
   },
   "outputs": [],
   "source": [
    "# Imports\n",
    "import numpy as np\n",
    "import pandas as pd\n",
    "import matplotlib.pyplot as plt\n",
    "%matplotlib inline\n",
    "import seaborn as sns\n",
    "import re"
   ]
  },
  {
   "cell_type": "code",
   "execution_count": 2,
   "metadata": {
    "collapsed": true
   },
   "outputs": [],
   "source": [
    "# Read in the Datasets\n",
    "ratings_old = pd.read_csv('fandango_score_comparison.csv')\n",
    "ratings_new = pd.read_csv('movie_ratings_16_17.csv')"
   ]
  },
  {
   "cell_type": "code",
   "execution_count": 10,
   "metadata": {
    "collapsed": false
   },
   "outputs": [],
   "source": [
    "fandango_old = ratings_old[['FILM', 'Fandango_Stars', 'Fandango_Ratingvalue',\n",
    "                          'Fandango_votes', 'Fandango_Difference']]\n",
    "fandango_new = ratings_new[['movie','year', 'fandango']]\n",
    "    "
   ]
  },
  {
   "cell_type": "code",
   "execution_count": 81,
   "metadata": {
    "collapsed": false
   },
   "outputs": [
    {
     "data": {
      "text/html": [
       "<div>\n",
       "<style scoped>\n",
       "    .dataframe tbody tr th:only-of-type {\n",
       "        vertical-align: middle;\n",
       "    }\n",
       "\n",
       "    .dataframe tbody tr th {\n",
       "        vertical-align: top;\n",
       "    }\n",
       "\n",
       "    .dataframe thead th {\n",
       "        text-align: right;\n",
       "    }\n",
       "</style>\n",
       "<table border=\"1\" class=\"dataframe\">\n",
       "  <thead>\n",
       "    <tr style=\"text-align: right;\">\n",
       "      <th></th>\n",
       "      <th>FILM</th>\n",
       "      <th>Fandango_Stars</th>\n",
       "      <th>Fandango_Ratingvalue</th>\n",
       "      <th>Fandango_votes</th>\n",
       "      <th>Fandango_Difference</th>\n",
       "    </tr>\n",
       "  </thead>\n",
       "  <tbody>\n",
       "    <tr>\n",
       "      <th>0</th>\n",
       "      <td>Avengers: Age of Ultron (2015)</td>\n",
       "      <td>5.0</td>\n",
       "      <td>4.5</td>\n",
       "      <td>14846</td>\n",
       "      <td>0.5</td>\n",
       "    </tr>\n",
       "    <tr>\n",
       "      <th>1</th>\n",
       "      <td>Cinderella (2015)</td>\n",
       "      <td>5.0</td>\n",
       "      <td>4.5</td>\n",
       "      <td>12640</td>\n",
       "      <td>0.5</td>\n",
       "    </tr>\n",
       "    <tr>\n",
       "      <th>2</th>\n",
       "      <td>Ant-Man (2015)</td>\n",
       "      <td>5.0</td>\n",
       "      <td>4.5</td>\n",
       "      <td>12055</td>\n",
       "      <td>0.5</td>\n",
       "    </tr>\n",
       "    <tr>\n",
       "      <th>3</th>\n",
       "      <td>Do You Believe? (2015)</td>\n",
       "      <td>5.0</td>\n",
       "      <td>4.5</td>\n",
       "      <td>1793</td>\n",
       "      <td>0.5</td>\n",
       "    </tr>\n",
       "    <tr>\n",
       "      <th>4</th>\n",
       "      <td>Hot Tub Time Machine 2 (2015)</td>\n",
       "      <td>3.5</td>\n",
       "      <td>3.0</td>\n",
       "      <td>1021</td>\n",
       "      <td>0.5</td>\n",
       "    </tr>\n",
       "  </tbody>\n",
       "</table>\n",
       "</div>"
      ],
      "text/plain": [
       "                             FILM  Fandango_Stars  Fandango_Ratingvalue  \\\n",
       "0  Avengers: Age of Ultron (2015)             5.0                   4.5   \n",
       "1               Cinderella (2015)             5.0                   4.5   \n",
       "2                  Ant-Man (2015)             5.0                   4.5   \n",
       "3          Do You Believe? (2015)             5.0                   4.5   \n",
       "4   Hot Tub Time Machine 2 (2015)             3.5                   3.0   \n",
       "\n",
       "   Fandango_votes  Fandango_Difference  \n",
       "0           14846                  0.5  \n",
       "1           12640                  0.5  \n",
       "2           12055                  0.5  \n",
       "3            1793                  0.5  \n",
       "4            1021                  0.5  "
      ]
     },
     "execution_count": 81,
     "metadata": {},
     "output_type": "execute_result"
    }
   ],
   "source": [
    "fandango_old.head()"
   ]
  },
  {
   "cell_type": "markdown",
   "metadata": {},
   "source": [
    "## Population\n",
    "\n",
    "The population to this analysis is all of the movie ratings both before and after the investigation on the validity of the vandango rating system. \n",
    "The samples we have are samples from before the investigation and after the investigation."
   ]
  },
  {
   "cell_type": "markdown",
   "metadata": {},
   "source": [
    "## Sampling\n",
    "\n",
    "We have two samples available to us:\n",
    "* a sample provided by Hickey, who originally investigated inconsistencies with the vandango rating system. He excluded movies:\n",
    "    * That had less than 30 user ratings on Fandango by the time of the sampling (24.08.2015)\n",
    "    * That did not have ticket sales in 2015\n",
    "    --> By doing this he excluded a lot of movies, especially less popular ones.\n",
    "    \n",
    "* a later sample. This sample excluded movies:\n",
    "    * released before 2016\n",
    "    * without a lot of reviews (exact number unclear)\n",
    "\n",
    "This means:\n",
    "Our two samples are:\n",
    "* Not representative of the whole population. This is due to the fact that each author chose to eliminate a considerable amount of movie ratings. This will skew our results.\n",
    "* Not comparable to each other. Since the people responsible for the two samplings used different criteria to exclude data, the two datasets will likely have differing results."
   ]
  },
  {
   "cell_type": "markdown",
   "metadata": {},
   "source": [
    "## New goals:\n",
    "\n",
    "Since the sampled data is neither representative nor are the two datasets comparable, we will need to re-evaluate our initial goal setting.\n",
    "As a large part of the less popular movies have been excluded, out new population will be comprised only on popular movies. In fact we will be working with two populations:\n",
    "* popular movies in the first 8 months of 2015\n",
    "* popular movies in 2016 or later\n",
    "\n",
    "To be able to compare the two results, we have to try to exclude all movies that would have been excluded in the sampling with the stricter sampling rules.\n",
    "\n",
    "The goal will still be to find out if there has been a shift in the Fandango movie review aggregation process before and after the investigation, but due to these constraints we will be limiting ourselves to the more popular movies"
   ]
  },
  {
   "cell_type": "markdown",
   "metadata": {},
   "source": [
    "## Overview over the data contained in our datasets\n",
    "\n",
    "Finding out which type of movies were selected:"
   ]
  },
  {
   "cell_type": "code",
   "execution_count": 19,
   "metadata": {
    "collapsed": false
   },
   "outputs": [
    {
     "name": "stdout",
     "output_type": "stream",
     "text": [
      "count      146.000000\n",
      "mean      3848.787671\n",
      "std       6357.778617\n",
      "min         35.000000\n",
      "25%        222.250000\n",
      "50%       1446.000000\n",
      "75%       4439.500000\n",
      "max      34846.000000\n",
      "Name: Fandango_votes, dtype: float64\n"
     ]
    },
    {
     "data": {
      "image/png": "[encoded data removed]",
      "text/plain": [
       "<matplotlib.figure.Figure at 0x7f45d483e780>"
      ]
     },
     "metadata": {},
     "output_type": "display_data"
    },
    {
     "data": {
      "image/png": "[encoded data removed]",
      "text/plain": [
       "<matplotlib.figure.Figure at 0x7f45d46574e0>"
      ]
     },
     "metadata": {},
     "output_type": "display_data"
    },
    {
     "data": {
      "image/png": "[encoded data removed]",
      "text/plain": [
       "<matplotlib.figure.Figure at 0x7f45d48b0320>"
      ]
     },
     "metadata": {},
     "output_type": "display_data"
    }
   ],
   "source": [
    "print(fandango_old.Fandango_votes.describe())\n",
    "fandango_old.Fandango_votes.plot.hist()\n",
    "plt.show()\n",
    "fandango_old.Fandango_votes[fandango_old.Fandango_votes < 3000].plot.hist()\n",
    "plt.show()\n",
    "fandango_old.Fandango_votes[fandango_old.Fandango_votes < 100].plot.hist()\n",
    "plt.show()\n",
    "\n"
   ]
  },
  {
   "cell_type": "markdown",
   "metadata": {},
   "source": [
    "This means the lowest amount of ratings in the dataset containing movies from 2015 is 35. The table shows that half of our movies are rated less than 1500 times."
   ]
  },
  {
   "cell_type": "markdown",
   "metadata": {},
   "source": [
    "### New dataset\n",
    "\n",
    "In our second dataset the movie ratings are selected by including only popular movies. The dataset unfortunately has no equivalent to the fandango_ratings column, so we have no clear sense of what the author judged to be 'popular'. We could find a number of movies and check them manually"
   ]
  },
  {
   "cell_type": "code",
   "execution_count": 23,
   "metadata": {
    "collapsed": false
   },
   "outputs": [
    {
     "data": {
      "text/html": [
       "<div>\n",
       "<style scoped>\n",
       "    .dataframe tbody tr th:only-of-type {\n",
       "        vertical-align: middle;\n",
       "    }\n",
       "\n",
       "    .dataframe tbody tr th {\n",
       "        vertical-align: top;\n",
       "    }\n",
       "\n",
       "    .dataframe thead th {\n",
       "        text-align: right;\n",
       "    }\n",
       "</style>\n",
       "<table border=\"1\" class=\"dataframe\">\n",
       "  <thead>\n",
       "    <tr style=\"text-align: right;\">\n",
       "      <th></th>\n",
       "      <th>movie</th>\n",
       "      <th>year</th>\n",
       "      <th>fandango</th>\n",
       "    </tr>\n",
       "  </thead>\n",
       "  <tbody>\n",
       "    <tr>\n",
       "      <th>108</th>\n",
       "      <td>Mechanic: Resurrection</td>\n",
       "      <td>2016</td>\n",
       "      <td>4.0</td>\n",
       "    </tr>\n",
       "    <tr>\n",
       "      <th>206</th>\n",
       "      <td>Warcraft</td>\n",
       "      <td>2016</td>\n",
       "      <td>4.0</td>\n",
       "    </tr>\n",
       "    <tr>\n",
       "      <th>106</th>\n",
       "      <td>Max Steel</td>\n",
       "      <td>2016</td>\n",
       "      <td>3.5</td>\n",
       "    </tr>\n",
       "    <tr>\n",
       "      <th>107</th>\n",
       "      <td>Me Before You</td>\n",
       "      <td>2016</td>\n",
       "      <td>4.5</td>\n",
       "    </tr>\n",
       "    <tr>\n",
       "      <th>51</th>\n",
       "      <td>Fantastic Beasts and Where to Find Them</td>\n",
       "      <td>2016</td>\n",
       "      <td>4.5</td>\n",
       "    </tr>\n",
       "    <tr>\n",
       "      <th>33</th>\n",
       "      <td>Cell</td>\n",
       "      <td>2016</td>\n",
       "      <td>3.0</td>\n",
       "    </tr>\n",
       "    <tr>\n",
       "      <th>59</th>\n",
       "      <td>Genius</td>\n",
       "      <td>2016</td>\n",
       "      <td>3.5</td>\n",
       "    </tr>\n",
       "    <tr>\n",
       "      <th>152</th>\n",
       "      <td>Sully</td>\n",
       "      <td>2016</td>\n",
       "      <td>4.5</td>\n",
       "    </tr>\n",
       "    <tr>\n",
       "      <th>4</th>\n",
       "      <td>A Hologram for the King</td>\n",
       "      <td>2016</td>\n",
       "      <td>3.0</td>\n",
       "    </tr>\n",
       "    <tr>\n",
       "      <th>31</th>\n",
       "      <td>Captain America: Civil War</td>\n",
       "      <td>2016</td>\n",
       "      <td>4.5</td>\n",
       "    </tr>\n",
       "  </tbody>\n",
       "</table>\n",
       "</div>"
      ],
      "text/plain": [
       "                                       movie  year  fandango\n",
       "108                   Mechanic: Resurrection  2016       4.0\n",
       "206                                 Warcraft  2016       4.0\n",
       "106                                Max Steel  2016       3.5\n",
       "107                            Me Before You  2016       4.5\n",
       "51   Fantastic Beasts and Where to Find Them  2016       4.5\n",
       "33                                      Cell  2016       3.0\n",
       "59                                    Genius  2016       3.5\n",
       "152                                    Sully  2016       4.5\n",
       "4                    A Hologram for the King  2016       3.0\n",
       "31                Captain America: Civil War  2016       4.5"
      ]
     },
     "execution_count": 23,
     "metadata": {},
     "output_type": "execute_result"
    }
   ],
   "source": [
    "fandango_new.sample(10, random_state = 1)"
   ]
  },
  {
   "cell_type": "markdown",
   "metadata": {},
   "source": [
    "When checking the amount of ratings in the current day (October 2019) there was a tooltip on the site saying that the 5 star rating of Fandango was replaced by the rotten tomatoes ratings. This could imply that the company wasn't able to move past the controversy caused by their ratings system. It also precludes me from looking up current rating numbers of movies. But the movies in this project are at this point already 3 years old, so the current rating numbers would not be the most useful gauge of popularity. For this reason, I will be using the rating numbers from the solution:\n",
    "\n",
    "|Movie                                  |   # User Ratings|\n",
    "|:-------------------------------------:|----------------:|\n",
    "|Mechanic: Resurrection                 |             2247|\n",
    "|Warcraft                               |             7271|\n",
    "|Max Steel                              |              493|\n",
    "|Me Before You                          |             5263|\n",
    "|Fantastic Beasts and Where to Find Them|            13400|\n",
    "|Cell                                   |               17|\n",
    "|Genius                                 |              127|\n",
    "|Sully                                  |            11877|\n",
    "|A Hologram for the King                |              500|\n",
    "|Captain America: Civil War             |            35057|\n",
    "\n",
    "\n",
    "\n",
    "We can see that the majority of movies in this sampling are very popular. We do have one outlier, however: Cell with only 17 ratings. So the inclusion criterium for the second dataset isn't how many user ratings a movie received."
   ]
  },
  {
   "cell_type": "markdown",
   "metadata": {},
   "source": [
    "## Exclude movies not released in 2015 or 2016\n",
    "\n",
    "Included in the datasets are movies not released in 2015 or 2016. These need to be excluded."
   ]
  },
  {
   "cell_type": "code",
   "execution_count": 74,
   "metadata": {
    "collapsed": false
   },
   "outputs": [],
   "source": [
    "# Finding the movies released in 2015 in the old Fandango dataset\n",
    "\n",
    "fandango_2015 = fandango_old.loc[fandango_old.FILM.str.contains('\\(2015\\)')]"
   ]
  },
  {
   "cell_type": "code",
   "execution_count": 76,
   "metadata": {
    "collapsed": false
   },
   "outputs": [],
   "source": [
    "fandango_2016 = fandango_new[fandango_new.year == 2016]"
   ]
  }
 ],
 "metadata": {
  "kernelspec": {
   "display_name": "Python 3",
   "language": "python",
   "name": "python3"
  },
  "language_info": {
   "codemirror_mode": {
    "name": "ipython",
    "version": 3
   },
   "file_extension": ".py",
   "mimetype": "text/x-python",
   "name": "python",
   "nbconvert_exporter": "python",
   "pygments_lexer": "ipython3",
   "version": "3.4.3"
  }
 },
 "nbformat": 4,
 "nbformat_minor": 2
}
